{
 "cells": [
  {
   "cell_type": "markdown",
   "id": "21046f5e-d71b-489a-904a-12b155214192",
   "metadata": {},
   "source": [
    "# Data Science Tools and Ecosystem"
   ]
  },
  {
   "cell_type": "markdown",
   "id": "dd052552-1276-4465-a449-236f06fd8de7",
   "metadata": {},
   "source": [
    "In this notebook, Data Science Tools and Ecosystem are summarized."
   ]
  },
  {
   "cell_type": "markdown",
   "id": "7b2368ce-6a12-495b-9fe8-d2d2a902601e",
   "metadata": {},
   "source": [
    "Some of the popular languages that Data Scientists use are:"
   ]
  },
  {
   "cell_type": "code",
   "execution_count": 3,
   "id": "4b57ed7d-7780-4aa9-a4eb-921d59228959",
   "metadata": {},
   "outputs": [],
   "source": [
    "ordered_list=[\"Python\",\"R\",\"SQL\"]"
   ]
  },
  {
   "cell_type": "markdown",
   "id": "b45d190d-4131-4530-9fe2-deb1a766a459",
   "metadata": {},
   "source": [
    "Some of the commonly used libraries used by Data Scientists include:"
   ]
  },
  {
   "cell_type": "code",
   "execution_count": 4,
   "id": "6e9ecc4a-5db6-4ade-928b-372704dad620",
   "metadata": {},
   "outputs": [],
   "source": [
    "ordered_list=[\"TensorFlow\",\"Numpy\",\"SciPy\"]"
   ]
  },
  {
   "cell_type": "markdown",
   "id": "e368b887-1dc1-4292-8670-78aa87de2d27",
   "metadata": {},
   "source": [
    "| Data Science Tools |\n",
    "|--------------------|\n",
    "| R Studio           |\n",
    "| Jupyter Notebook   |\n",
    "| VS code            |\n"
   ]
  },
  {
   "cell_type": "markdown",
   "id": "2ba17a84-876a-4a0e-919d-f3bbe29a06e6",
   "metadata": {},
   "source": [
    "### Below are a few examples of evaluating arithmetic expressions in Python"
   ]
  },
  {
   "cell_type": "markdown",
   "id": "42d29cfc-f908-4238-ac2d-27cfafa64535",
   "metadata": {},
   "source": [
    "This a simple arithmetic expression to mutiply then add integers"
   ]
  },
  {
   "cell_type": "code",
   "execution_count": 5,
   "id": "e546b1f5-61ef-4d64-9c9c-58ad3a757f20",
   "metadata": {},
   "outputs": [
    {
     "data": {
      "text/plain": [
       "17"
      ]
     },
     "execution_count": 5,
     "metadata": {},
     "output_type": "execute_result"
    }
   ],
   "source": [
    "(3*4)+5"
   ]
  },
  {
   "cell_type": "markdown",
   "id": "a663eaa7-1aa6-4002-a125-f89798990165",
   "metadata": {},
   "source": [
    "This will convert 200 minutes to hours by diving by 60"
   ]
  },
  {
   "cell_type": "code",
   "execution_count": 7,
   "id": "fc7f3cbc-9b3d-4b42-8ed1-e461c97de538",
   "metadata": {},
   "outputs": [
    {
     "data": {
      "text/plain": [
       "3.3333333333333335"
      ]
     },
     "execution_count": 7,
     "metadata": {},
     "output_type": "execute_result"
    }
   ],
   "source": [
    "200/60"
   ]
  },
  {
   "cell_type": "markdown",
   "id": "2d816047-1edf-406e-b7b0-d794f36d11cd",
   "metadata": {},
   "source": [
    "__Objectives:__"
   ]
  },
  {
   "cell_type": "markdown",
   "id": "46cad10a-d930-4675-a4bb-2988f391bad6",
   "metadata": {},
   "source": [
    "- List of common library for Data Science\n",
    "- List of popular language for Data Science\n",
    "- Table summarises Data Science Tools"
   ]
  },
  {
   "cell_type": "markdown",
   "id": "5bbb0a60-ab4e-456b-b21a-e00dfac1b34d",
   "metadata": {},
   "source": [
    "## Author\n",
    "Tatsuki"
   ]
  },
  {
   "cell_type": "code",
   "execution_count": null,
   "id": "41db2b24-c149-49f0-ad21-63cb385ac6e5",
   "metadata": {},
   "outputs": [],
   "source": []
  }
 ],
 "metadata": {
  "kernelspec": {
   "display_name": "Python 3 (ipykernel)",
   "language": "python",
   "name": "python3"
  },
  "language_info": {
   "codemirror_mode": {
    "name": "ipython",
    "version": 3
   },
   "file_extension": ".py",
   "mimetype": "text/x-python",
   "name": "python",
   "nbconvert_exporter": "python",
   "pygments_lexer": "ipython3",
   "version": "3.11.4"
  }
 },
 "nbformat": 4,
 "nbformat_minor": 5
}
